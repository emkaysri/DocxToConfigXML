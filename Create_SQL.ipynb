{
 "cells": [
  {
   "cell_type": "code",
   "execution_count": 3,
   "metadata": {},
   "outputs": [
    {
     "name": "stdin",
     "output_type": "stream",
     "text": [
      "File Location: C:\\Users\\srinidhi.emkay\\Documents\\PersonalGit\\DocxToConfigXML\\file.docx\n"
     ]
    },
    {
     "name": "stdout",
     "output_type": "stream",
     "text": [
      "{'Configurable Rules': 'Project Setting'}\n",
      "{'Configurable Rules': ''}\n",
      "{'Configurable Rules': '\\u2002\\u2002\\u2002\\u2002\\u2002'}\n",
      "{'Configurable Rules': '\\u2002\\u2002\\u2002\\u2002\\u2002'}\n",
      "{'Configurable Rules': 'Time Point QC Check – The Time Point must have a status of QC OK in the database (If ‘Yes’ requires a QC check list task at Time Point level in BioPACS).'}\n",
      "{'Configurable Rules': 'Studies (Modality) QC Check - All required studies for a time point, must have a status of QC OK in the database (If ‘Yes’ requires a QC check list task at Study level in BioPACS).'}\n",
      "{'Configurable Rules': 'Time Point Open Queries Check - All queries for the time point must be resolved (Not a pre-requisite rule, will not stop read units from being created/updated for the subject).'}\n",
      "{'Configurable Rules': 'Prior Time Points must be Read Ready Check – All prior time points must not have open queries or any failed rules. (If ‘Yes’ requires # 4 Time Point Open Queries Check to also be ‘Yes’. Not a pre-requisite rule, will not stop read units from being created/updated for the subject).'}\n",
      "{'Configurable Rules': 'Discontinuation Date Check – Time point must not include any scans with exam date that exceed discontinuation date configured for the subject (If ‘Yes’ time point will not be auto-allocated- not a pre-requisite rule, will not stop read units from being created/updated for the subject )'}\n",
      "{'Configurable Rules': 'Baseline must be Read Ready – Baseline (or Screening) time point must be read ready before future time points can be.'}\n",
      "{'Configurable Rules': 'Time Point Custom Field - The system must provide a rule that considers a time point to be read ready if the value of a specified custom field is equal to a specified value.\\nIf Yes – Custom Field Name:  \\u2002\\u2002\\u2002\\u2002\\u2002  Required Field Value:  \\u2002\\u2002\\u2002\\u2002\\u2002  '}\n",
      "{'Configurable Rules': 'Radiology Active Clinical Data Required – Selected Clinical Data with respective sessions must be inserted for the subject/timepoint, if not inserted will flag as failed in READAdmin (not a pre-requisite rule, will not stop read units from being created/updated for the subject)'}\n",
      "{'Configurable Rules': ''}\n",
      "{'Configurable Rules': ''}\n",
      "{'Configurable Rules': ''}\n",
      "{'Configurable Rules': ''}\n",
      "{'Configurable Rules': ''}\n",
      "{'Configurable Rules': ''}\n",
      "{'Configurable Rules': ''}\n",
      "{'Configurable Rules': ''}\n",
      "{'Configurable Rules': 'Configurable Read Unit Rules\\nNote: Points 1 or 2 are for a one session Clinical assessment (Session V), whereas point 3 will create read units for the oncologist for each time point Session 1 (SCR), Session 2 (On Study), and Session 3 (Global).'}\n",
      "{'Configurable Rules': 'Clinical read unit - If a project has a clinical session, the clinical read unit must be available when all the configured subject prerequisite rules are met.'}\n",
      "{'Configurable Rules': 'Clinical read ready rule - The clinical read unit must be considered read ready if the subject contains active clinical data.'}\n",
      "{'Configurable Rules': 'Oncology workflow – If a project has an oncology workflow session, opening all time points sequentially. (Select ‘Yes’ if the study is allowing the oncologist to add/track clinical lesions on photography, or clinical finding lesions directly on the eCRF)'}\n",
      "{'Configurable Rules': 'Enforce Blind Code Selection – enforce blind code to be allocated to the same reader in all time points. '}\n",
      "{'Configurable Rules': 'Enforce Same Adjudicator for Cases (radiology session)– in cases where adjudication needs to be repeated, enforce blind code be allocate to the same reader.'}\n",
      "{'Configurable Rules': ''}\n",
      "{'Configurable Rules': 'Reader Monitoring and Adjudication Rules - Subject level'}\n",
      "{'Configurable Rules': ''}\n",
      "{'Configurable Rules': ''}\n",
      "{'Configurable Rules': ''}\n",
      "{'Configurable Rules': ''}\n",
      "{'Configurable Rules': 'Time Point Level Adjudication \\nNote: Only for projects in which each time point is read in isolation (e.g. the GI video studies, not oncology studies where what happens at TP2 affects TP3, etc. Readers will not have access to prior time points.'}\n",
      "{'Configurable Rules': ''}\n",
      "{'Configurable Rules': ''}\n",
      "{'Configurable Rules': 'Project Specific Rules'}\n",
      "{'Configurable Rules': ''}\n",
      "{'Configurable Rules': ''}\n"
     ]
    }
   ],
   "source": [
    "from docx import Document\n",
    "\n",
    "# Load the first table from your document. In your example file,\n",
    "# there is only one table, so I just grab the first one.\n",
    "document = Document(input(str(\"File Location:\")))\n",
    "table = document.tables\n",
    "table = table[len(table) - 2]\n",
    "\n",
    "# Data will be a list of rows represented as dictionaries\n",
    "# containing each row's data.\n",
    "data = []\n",
    "section = ''\n",
    "Radio_Onco_Clinical = ''\n",
    "\n",
    "keys = None\n",
    "\n",
    "for i, row in enumerate(table.rows):\n",
    "    text = (cell.text for cell in row.cells)\n",
    "\n",
    "    # Establish the mapping based on the first row\n",
    "    # headers; these will become the keys of our dictionary\n",
    "    if i == 0:\n",
    "        keys = tuple(text)\n",
    "        continue\n",
    "\n",
    "    # Construct a dictionary for this row, mapping\n",
    "    # keys to values for this row\n",
    "    row_data = dict(zip(keys, text))\n",
    "    values = list(row_data.values())\n",
    "    print(row_data)\n"
   ]
  }
 ],
 "metadata": {
  "kernelspec": {
   "display_name": "Python 3",
   "language": "python",
   "name": "python3"
  },
  "language_info": {
   "codemirror_mode": {
    "name": "ipython",
    "version": 3
   },
   "file_extension": ".py",
   "mimetype": "text/x-python",
   "name": "python",
   "nbconvert_exporter": "python",
   "pygments_lexer": "ipython3",
   "version": "3.7.4"
  }
 },
 "nbformat": 4,
 "nbformat_minor": 4
}
